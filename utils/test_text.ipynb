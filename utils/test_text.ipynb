{
 "cells": [
  {
   "cell_type": "markdown",
   "metadata": {},
   "source": [
    "### Testing the text module in Mozilla Deep Speech\n",
    "\n",
    "By Vikram Reddy\n",
    "\n",
    "4/17/17"
   ]
  },
  {
   "cell_type": "code",
   "execution_count": 17,
   "metadata": {
    "collapsed": true
   },
   "outputs": [],
   "source": [
    "# Imports\n",
    "import numpy as np"
   ]
  },
  {
   "cell_type": "code",
   "execution_count": 3,
   "metadata": {},
   "outputs": [
    {
     "data": {
      "text/plain": [
       "'where people were making their gifts to god'"
      ]
     },
     "execution_count": 3,
     "metadata": {},
     "output_type": "execute_result"
    }
   ],
   "source": [
    "path = 'mydata/1970-28415-0023.txt'\n",
    "def normalize_text(filename):\n",
    "    ''' \n",
    "    Simple text preprocessing:\n",
    "    Remove apostrophes, and make lowercase\n",
    "    '''\n",
    "    with open(filename, 'r') as fin:\n",
    "        text = fin.readlines()[0]\n",
    "    text = text.replace('\\'', '')\n",
    "    return text.lower()\n",
    "\n",
    "normalize_text(path)"
   ]
  },
  {
   "cell_type": "code",
   "execution_count": 4,
   "metadata": {
    "collapsed": true
   },
   "outputs": [],
   "source": [
    "# Constants\n",
    "SPACE_TOKEN = '<space>'\n",
    "SPACE_INDEX = 0\n",
    "FIRST_INDEX = ord('a') - 1 # 0 is reserved for the space"
   ]
  },
  {
   "cell_type": "code",
   "execution_count": 5,
   "metadata": {},
   "outputs": [
    {
     "data": {
      "text/plain": [
       "96"
      ]
     },
     "execution_count": 5,
     "metadata": {},
     "output_type": "execute_result"
    }
   ],
   "source": [
    "FIRST_INDEX"
   ]
  },
  {
   "cell_type": "code",
   "execution_count": 33,
   "metadata": {},
   "outputs": [
    {
     "name": "stdout",
     "output_type": "stream",
     "text": [
      "['h' 'i' '<space>' 'h' 'o' 'w' '<space>' 'a' 'r' 'e' '<space>' 'y' 'o' 'u']\n"
     ]
    },
    {
     "data": {
      "text/plain": [
       "array([ 8,  9,  0,  8, 15, 23,  0,  1, 18,  5,  0, 25, 15, 21])"
      ]
     },
     "execution_count": 33,
     "metadata": {},
     "output_type": "execute_result"
    }
   ],
   "source": [
    "def text_to_char_array(text):\n",
    "    # Create a list of words in a sentence with spaces replaced with '' in the list\n",
    "    result = text.replace(' ', '  ')\n",
    "    result = result.split(' ')\n",
    "    \n",
    "    # Tokenize words into letters adding in SPACE_TOKEN where required\n",
    "    result = np.hstack([SPACE_TOKEN if word == '' else list(word) for word in result])\n",
    "    print(result)\n",
    "    # Map characters to indices\n",
    "    result = [SPACE_INDEX if token == SPACE_TOKEN else ord(token) - FIRST_INDEX for token in result]\n",
    "    result = np.asarray(result)\n",
    "    return result\n",
    "\n",
    "lst = text_to_char_array('hi how are you')\n",
    "lst"
   ]
  },
  {
   "cell_type": "code",
   "execution_count": 13,
   "metadata": {},
   "outputs": [],
   "source": [
    "s = 'hi  how are you'.split(' ')"
   ]
  },
  {
   "cell_type": "code",
   "execution_count": 15,
   "metadata": {},
   "outputs": [
    {
     "data": {
      "text/plain": [
       "[['h', 'i'],\n",
       " '<space>',\n",
       " ['h', 'o', 'w'],\n",
       " '<space>',\n",
       " ['a', 'r', 'e'],\n",
       " '<space>',\n",
       " ['y', 'o', 'u']]"
      ]
     },
     "execution_count": 15,
     "metadata": {},
     "output_type": "execute_result"
    }
   ],
   "source": [
    "letters = [SPACE_TOKEN if x == '' else list(x) for x in lst]\n",
    "letters"
   ]
  },
  {
   "cell_type": "code",
   "execution_count": 29,
   "metadata": {},
   "outputs": [
    {
     "data": {
      "text/plain": [
       "array(['h', 'i', '<space>', 'h', 'o', 'w', '<space>', 'a', 'r', 'e',\n",
       "       '<space>', 'y', 'o', 'u'], \n",
       "      dtype='<U7')"
      ]
     },
     "execution_count": 29,
     "metadata": {},
     "output_type": "execute_result"
    }
   ],
   "source": [
    "arr = np.hstack(letters)\n",
    "arr"
   ]
  },
  {
   "cell_type": "code",
   "execution_count": 27,
   "metadata": {},
   "outputs": [
    {
     "data": {
      "text/plain": [
       "[8, 9, 0, 8, 15, 23, 0, 1, 18, 5, 0, 25, 15, 21]"
      ]
     },
     "execution_count": 27,
     "metadata": {},
     "output_type": "execute_result"
    }
   ],
   "source": [
    "[SPACE_INDEX if token == SPACE_TOKEN else ord(token) - FIRST_INDEX for token in arr]"
   ]
  },
  {
   "cell_type": "code",
   "execution_count": null,
   "metadata": {
    "collapsed": true
   },
   "outputs": [],
   "source": []
  },
  {
   "cell_type": "code",
   "execution_count": 35,
   "metadata": {},
   "outputs": [],
   "source": [
    "def sparse_tuple_from(sequences, dtype=np.int32):\n",
    "    pass"
   ]
  },
  {
   "cell_type": "code",
   "execution_count": null,
   "metadata": {
    "collapsed": true
   },
   "outputs": [],
   "source": []
  }
 ],
 "metadata": {
  "kernelspec": {
   "display_name": "Python 3",
   "language": "python",
   "name": "python3"
  },
  "language_info": {
   "codemirror_mode": {
    "name": "ipython",
    "version": 3
   },
   "file_extension": ".py",
   "mimetype": "text/x-python",
   "name": "python",
   "nbconvert_exporter": "python",
   "pygments_lexer": "ipython3",
   "version": "3.6.1"
  }
 },
 "nbformat": 4,
 "nbformat_minor": 2
}
