{
 "cells": [
  {
   "cell_type": "markdown",
   "metadata": {},
   "source": [
    "### Exploring the functions in load_audio_to_mem.py\n",
    "\n",
    "TensorFlow is fun! Open Source is like Enterprise -- well documented.\n",
    "This whole library is based on Mozilla DeepSpeech\n",
    "\n",
    "https://svds.com/tensorflow-rnn-tutorial/\n",
    "\n",
    "Vikram Reddy, 4/17/17\n",
    "\n",
    "Check-in Log:\n",
    "\n",
    "Friday, 4/21/17: Goals - feed input and target into pipeline\n",
    "\n",
    "Thursday, 4/27/17: Feed input and target into system"
   ]
  },
  {
   "cell_type": "code",
   "execution_count": 26,
   "metadata": {},
   "outputs": [],
   "source": [
    "import os\n",
    "import scipy.io.wavfile as wav\n",
    "import numpy as np\n",
    "\n",
    "from python_speech_features import mfcc"
   ]
  },
  {
   "cell_type": "code",
   "execution_count": 27,
   "metadata": {},
   "outputs": [
    {
     "name": "stdout",
     "output_type": "stream",
     "text": [
      "16000 [-66 -34  15 ..., -22 -29 -32] 1970-28415-0023\n"
     ]
    }
   ],
   "source": [
    "wavfile = 'mydata/1970-28415-0023.wav'\n",
    "\n",
    "def load_wavfile(wavfile):\n",
    "    ''' \n",
    "    Read a wav file using scipy.io.wavfile\n",
    "    \n",
    "    Returns a tuple of the rate, signal and name of the wav file\n",
    "    '''\n",
    "    rate, sig = wav.read(wavfile)\n",
    "    data_name = os.path.splitext(os.path.basename(wavfile))[0]\n",
    "    return rate, sig, data_name\n",
    "\n",
    "frames_per_second, signal, data_name = load_wavfile(wavfile)\n",
    "print(frames_per_second, signal, data_name)"
   ]
  },
  {
   "cell_type": "code",
   "execution_count": 28,
   "metadata": {},
   "outputs": [],
   "source": [
    "textfile = '1970-28415-0023.txt'\n",
    "def get_audio_and_transcript(textfile):\n",
    "    '''\n",
    "    \n",
    "    '''"
   ]
  },
  {
   "cell_type": "code",
   "execution_count": 29,
   "metadata": {},
   "outputs": [],
   "source": [
    "def audiofile_to_input_vector(audio_filename, numcep, numcontext):\n",
    "    '''\n",
    "    Turn audio file into input vec\n",
    "    Shape of original inputs is (number of frames by number of cepstrum (13 is default))\n",
    "    '''\n",
    "    fs, audio = wav.read(audio_filename)\n",
    "    \n",
    "    # Get mfcc coefficients\n",
    "    orig_inputs = mfcc(audio, samplerate=fs, numcep=numcep)\n",
    "    \n",
    "    # We only keep every second feature (BiRNN stride = 2)\n",
    "    orig_inputs = orig_inputs[::2]\n",
    "    \n",
    "    "
   ]
  },
  {
   "cell_type": "code",
   "execution_count": 30,
   "metadata": {},
   "outputs": [
    {
     "data": {
      "text/plain": [
       "(139, 13)"
      ]
     },
     "execution_count": 30,
     "metadata": {},
     "output_type": "execute_result"
    }
   ],
   "source": [
    "coeff = mfcc(signal, samplerate=frames_per_second)\n",
    "coeff.shape\n",
    "strided_input = coeff[::2]\n",
    "strided_input.shape"
   ]
  },
  {
   "cell_type": "code",
   "execution_count": 31,
   "metadata": {},
   "outputs": [],
   "source": [
    "train_inputs = np.array([], np.float32)"
   ]
  },
  {
   "cell_type": "code",
   "execution_count": 32,
   "metadata": {},
   "outputs": [],
   "source": [
    "numcep = 13\n",
    "numcontext = 9"
   ]
  },
  {
   "cell_type": "code",
   "execution_count": 33,
   "metadata": {},
   "outputs": [
    {
     "data": {
      "text/plain": [
       "array([], dtype=float32)"
      ]
     },
     "execution_count": 33,
     "metadata": {},
     "output_type": "execute_result"
    }
   ],
   "source": [
    "train_inputs"
   ]
  },
  {
   "cell_type": "markdown",
   "metadata": {},
   "source": [
    "#### refcheck = False to avoid value error in the resize function"
   ]
  },
  {
   "cell_type": "code",
   "execution_count": 34,
   "metadata": {},
   "outputs": [
    {
     "data": {
      "text/plain": [
       "array([[ 0.,  0.,  0., ...,  0.,  0.,  0.],\n",
       "       [ 0.,  0.,  0., ...,  0.,  0.,  0.],\n",
       "       [ 0.,  0.,  0., ...,  0.,  0.,  0.],\n",
       "       ..., \n",
       "       [ 0.,  0.,  0., ...,  0.,  0.,  0.],\n",
       "       [ 0.,  0.,  0., ...,  0.,  0.,  0.],\n",
       "       [ 0.,  0.,  0., ...,  0.,  0.,  0.]], dtype=float32)"
      ]
     },
     "execution_count": 34,
     "metadata": {},
     "output_type": "execute_result"
    }
   ],
   "source": [
    "train_inputs.resize((139, numcep + 2 * numcep * numcontext),refcheck=False)\n",
    "train_inputs"
   ]
  },
  {
   "cell_type": "code",
   "execution_count": 35,
   "metadata": {},
   "outputs": [
    {
     "data": {
      "text/plain": [
       "array([ 0.,  0.,  0.,  0.,  0.,  0.,  0.,  0.,  0.,  0.,  0.,  0.,  0.])"
      ]
     },
     "execution_count": 35,
     "metadata": {},
     "output_type": "execute_result"
    }
   ],
   "source": [
    "empty_mfcc = np.array([])\n",
    "empty_mfcc.resize((numcep), refcheck=False)\n",
    "empty_mfcc\n"
   ]
  },
  {
   "cell_type": "code",
   "execution_count": 36,
   "metadata": {},
   "outputs": [
    {
     "data": {
      "text/plain": [
       "138"
      ]
     },
     "execution_count": 36,
     "metadata": {},
     "output_type": "execute_result"
    }
   ],
   "source": [
    "time_slices = range(train_inputs.shape[0])\n",
    "context_past_min = time_slices[0] + numcontext # 9\n",
    "context_past_min\n",
    "context_future_max = time_slices[-1] - numcontext # 129\n",
    "context_future_max\n",
    "time_slices[-1]"
   ]
  },
  {
   "cell_type": "code",
   "execution_count": 37,
   "metadata": {},
   "outputs": [
    {
     "data": {
      "text/plain": [
       "range(0, 139)"
      ]
     },
     "execution_count": 37,
     "metadata": {},
     "output_type": "execute_result"
    }
   ],
   "source": [
    "time_slices"
   ]
  },
  {
   "cell_type": "code",
   "execution_count": 41,
   "metadata": {
    "scrolled": true
   },
   "outputs": [
    {
     "name": "stdout",
     "output_type": "stream",
     "text": [
      "9\n",
      "\n",
      "(139, 13)\n",
      "(0, 13)\n"
     ]
    }
   ],
   "source": [
    "for p in time_slices:\n",
    "    # creating sequences of past context\n",
    "    need_empty_past = max(0, (context_past_min - p)) # 9 counting down to 1, then 0s\n",
    "    \n",
    "    # only the first 9 have empty past source (if 9 is numcontext)\n",
    "    empty_source_past = list(empty_mfcc for empty_slots in range(need_empty_past))\n",
    "    data_source_past = strided_input[max(0, p - numcontext):p] # starts with empty list of [0:0]\n",
    "    assert(len(empty_source_past) + len(data_source_past) == numcontext)\n",
    "    if p == 0:\n",
    "        print(len(empty_source_past))\n",
    "        print()\n",
    "        print(strided_input.shape)\n",
    "        print(data_source_past.shape)\n",
    "    # creating sequences of future context\n",
    "    need_empty_future = max(0, (p - context_future_max))\n",
    "    empty_source_future = list(empty_mfcc for empty_slots in range(need_empty_future))\n",
    "    \n",
    "    # at each point in time, I have a list of mfcc features (with dim 13), where the list has dim=numcontext\n",
    "    # So I am essentially creating features for each numcontext-sized bin, centering around a timepoint\n",
    "    data_source_future = strided_input[p + 1:p + numcontext + 1]\n",
    "    assert(len(empty_source_future) + len(data_source_future) == numcontext)\n",
    "    \n",
    "    if need_empty_past:\n",
    "        past = np.concatenate((empty_source_past, data_source_past))\n",
    "    else:\n",
    "        past = data_source_past\n",
    "\n",
    "    if need_empty_future:\n",
    "        future = np.concatenate((data_source_future, empty_source_future))\n",
    "    else:\n",
    "        future = data_source_future\n",
    "    \n",
    "    # flatten the arrays\n",
    "    past = np.resize(past, (numcontext * numcep,))\n",
    "    now = strided_input[p]\n",
    "    future = np.resize(future, (numcontext * numcep,))\n",
    "    assert(len(past) + len(now) + len(future) == numcep + 2*numcontext*numcep)\n",
    "    \n",
    "    train_inputs[p] = np.concatenate((past,now,future))\n",
    "\n",
    "# Scale/Standardize the inputs\n",
    "train_inputs = (train_inputs - np.mean(train_inputs)) / np.std(train_inputs)\n"
   ]
  },
  {
   "cell_type": "code",
   "execution_count": 40,
   "metadata": {},
   "outputs": [
    {
     "data": {
      "text/plain": [
       "139"
      ]
     },
     "execution_count": 40,
     "metadata": {},
     "output_type": "execute_result"
    }
   ],
   "source": [
    "len(train_inputs)"
   ]
  },
  {
   "cell_type": "code",
   "execution_count": null,
   "metadata": {
    "collapsed": true
   },
   "outputs": [],
   "source": []
  }
 ],
 "metadata": {
  "kernelspec": {
   "display_name": "Python 3",
   "language": "python",
   "name": "python3"
  },
  "language_info": {
   "codemirror_mode": {
    "name": "ipython",
    "version": 3
   },
   "file_extension": ".py",
   "mimetype": "text/x-python",
   "name": "python",
   "nbconvert_exporter": "python",
   "pygments_lexer": "ipython3",
   "version": "3.6.1"
  }
 },
 "nbformat": 4,
 "nbformat_minor": 2
}
