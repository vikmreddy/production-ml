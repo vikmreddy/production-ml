{
 "cells": [
  {
   "cell_type": "markdown",
   "metadata": {},
   "source": [
    "## Creating feature vectors for input and target\n",
    "Vikram Reddy\n",
    "\n",
    "4/22/17"
   ]
  },
  {
   "cell_type": "code",
   "execution_count": 76,
   "metadata": {
    "collapsed": false
   },
   "outputs": [],
   "source": [
    "# Imports\n",
    "import numpy as np\n",
    "import pandas as pd\n",
    "from scipy.sparse import hstack\n",
    "from PIL import Image"
   ]
  },
  {
   "cell_type": "code",
   "execution_count": 77,
   "metadata": {
    "collapsed": false
   },
   "outputs": [],
   "source": [
    "def get_input_vec_grouped(line, window_size):\n",
    "    ''' \n",
    "    Returns a training vector for the input hindi line that consists\n",
    "    of a time series of data. At each time step, there is a window-size length of\n",
    "    vectors\n",
    "    '''\n",
    "    im = np.array(Image.open('hindi_data/hindi_lines/line_0.jpg').convert('L')\n",
    "                  , dtype=np.uint32)\n",
    "    #df = pd.DataFrame(im)\n",
    "    im = im.transpose()\n",
    "    num_features, time_steps = im.shape\n",
    "    \n",
    "    train_inputs = np.zeros((time_steps, num_features + 2 * num_features * window_size))\n",
    "    \n",
    "    empty_feature_vec = np.zeros((num_features))\n",
    "    \n",
    "    time_slices = range(time_steps)\n",
    "    context_past_min = time_slices[0] + window_size\n",
    "    context_future_max = time_slices[-1] - window_size\n",
    "    \n",
    "    for p in time_slices:\n",
    "        # creating sequences of past context\n",
    "        need_empty_past = max(0, (context_past_min - p)) # 9 counting down to 1, then 0s\n",
    "\n",
    "        # only the first 9 have empty past source (if 9 is window_size)\n",
    "        empty_source_past = list(empty_feature_vec for empty_slots in range(need_empty_past))\n",
    "        #print(empty_source_past)\n",
    "        data_source_past = im[max(0, p - window_size):p] # starts with empty list of [0:0]\n",
    "        \n",
    "        print(len(data_source_past), data_source_past.shape)\n",
    "        #print(len(empty_source_past), empty_source_past.shape)\n",
    "        print('winnnndow', window_size)\n",
    "        print(len(data_source_past))\n",
    "        print(p)\n",
    "        assert(len(empty_source_past) + len(data_source_past) == window_size)\n",
    "\n",
    "        # creating sequences of future context\n",
    "        need_empty_future = max(0, (p - context_future_max))\n",
    "        empty_source_future = list(empty_mfcc for empty_slots in range(need_empty_future))\n",
    "\n",
    "        # at each point in time, I have a list of mfcc features (with dim 13), where the list has dim=window_size\n",
    "        # So I am essentially creating features for each window_size-sized bin, centering around a timepoint\n",
    "        data_source_future = im[p + 1:p + window_size + 1]\n",
    "        assert(len(empty_source_future) + len(data_source_future) == window_size)\n",
    "\n",
    "        if need_empty_past:\n",
    "            past = hstack((empty_source_past, data_source_past))\n",
    "        else:\n",
    "            past = data_source_past\n",
    "\n",
    "        if need_empty_future:\n",
    "            future = np.concatenate((data_source_future, empty_source_future))\n",
    "        else:\n",
    "            future = data_source_future\n",
    "\n",
    "        # flatten the arrays\n",
    "        past = np.resize(past, (window_size * num_features,))\n",
    "        now = strided_input[p]\n",
    "        future = np.resize(future, (window_size * num_features,))\n",
    "        assert(len(past) + len(now) + len(future) == num_features + 2*window_size*num_features)\n",
    "\n",
    "        train_inputs[p] = np.concatenate((past,now,future))\n",
    "\n",
    "    # Scale/Standardize the inputs\n",
    "    train_inputs = (train_inputs - np.mean(train_inputs)) / np.std(train_inputs)\n"
   ]
  },
  {
   "cell_type": "code",
   "execution_count": 78,
   "metadata": {
    "collapsed": false
   },
   "outputs": [],
   "source": [
    "df = np.array(Image.open('hindi_data/hindi_lines/line_0.jpg').convert('L'), \n",
    "                          dtype=np.uint32)"
   ]
  },
  {
   "cell_type": "code",
   "execution_count": 79,
   "metadata": {
    "collapsed": false
   },
   "outputs": [
    {
     "data": {
      "text/plain": [
       "(2601, 89)"
      ]
     },
     "execution_count": 79,
     "metadata": {},
     "output_type": "execute_result"
    }
   ],
   "source": [
    "df.transpose().shape"
   ]
  },
  {
   "cell_type": "code",
   "execution_count": 80,
   "metadata": {
    "collapsed": false
   },
   "outputs": [
    {
     "name": "stdout",
     "output_type": "stream",
     "text": [
      "0 (0, 89)\n",
      "winnnndow 3\n",
      "0\n",
      "0\n"
     ]
    },
    {
     "ename": "ValueError",
     "evalue": "blocks[0,:] has incompatible row dimensions. Got blocks[0,1].shape[0] == 0, expected 3.",
     "output_type": "error",
     "traceback": [
      "\u001b[0;31m---------------------------------------------------------------------------\u001b[0m",
      "\u001b[0;31mValueError\u001b[0m                                Traceback (most recent call last)",
      "\u001b[0;32m<ipython-input-80-6b51b04e184e>\u001b[0m in \u001b[0;36m<module>\u001b[0;34m()\u001b[0m\n\u001b[0;32m----> 1\u001b[0;31m \u001b[0mtraining\u001b[0m \u001b[0;34m=\u001b[0m \u001b[0mget_input_vec_grouped\u001b[0m\u001b[0;34m(\u001b[0m\u001b[0;34m'line_0.jpg'\u001b[0m\u001b[0;34m,\u001b[0m \u001b[0;36m3\u001b[0m\u001b[0;34m)\u001b[0m\u001b[0;34m\u001b[0m\u001b[0m\n\u001b[0m",
      "\u001b[0;32m<ipython-input-77-59b014a3f8af>\u001b[0m in \u001b[0;36mget_input_vec_grouped\u001b[0;34m(line, window_size)\u001b[0m\n\u001b[1;32m     45\u001b[0m \u001b[0;34m\u001b[0m\u001b[0m\n\u001b[1;32m     46\u001b[0m         \u001b[0;32mif\u001b[0m \u001b[0mneed_empty_past\u001b[0m\u001b[0;34m:\u001b[0m\u001b[0;34m\u001b[0m\u001b[0m\n\u001b[0;32m---> 47\u001b[0;31m             \u001b[0mpast\u001b[0m \u001b[0;34m=\u001b[0m \u001b[0mhstack\u001b[0m\u001b[0;34m(\u001b[0m\u001b[0;34m(\u001b[0m\u001b[0mempty_source_past\u001b[0m\u001b[0;34m,\u001b[0m \u001b[0mdata_source_past\u001b[0m\u001b[0;34m)\u001b[0m\u001b[0;34m)\u001b[0m\u001b[0;34m\u001b[0m\u001b[0m\n\u001b[0m\u001b[1;32m     48\u001b[0m         \u001b[0;32melse\u001b[0m\u001b[0;34m:\u001b[0m\u001b[0;34m\u001b[0m\u001b[0m\n\u001b[1;32m     49\u001b[0m             \u001b[0mpast\u001b[0m \u001b[0;34m=\u001b[0m \u001b[0mdata_source_past\u001b[0m\u001b[0;34m\u001b[0m\u001b[0m\n",
      "\u001b[0;32m/Users/vikram/anaconda/envs/tensor/lib/python3.6/site-packages/scipy/sparse/construct.py\u001b[0m in \u001b[0;36mhstack\u001b[0;34m(blocks, format, dtype)\u001b[0m\n\u001b[1;32m    456\u001b[0m \u001b[0;34m\u001b[0m\u001b[0m\n\u001b[1;32m    457\u001b[0m     \"\"\"\n\u001b[0;32m--> 458\u001b[0;31m     \u001b[0;32mreturn\u001b[0m \u001b[0mbmat\u001b[0m\u001b[0;34m(\u001b[0m\u001b[0;34m[\u001b[0m\u001b[0mblocks\u001b[0m\u001b[0;34m]\u001b[0m\u001b[0;34m,\u001b[0m \u001b[0mformat\u001b[0m\u001b[0;34m=\u001b[0m\u001b[0mformat\u001b[0m\u001b[0;34m,\u001b[0m \u001b[0mdtype\u001b[0m\u001b[0;34m=\u001b[0m\u001b[0mdtype\u001b[0m\u001b[0;34m)\u001b[0m\u001b[0;34m\u001b[0m\u001b[0m\n\u001b[0m\u001b[1;32m    459\u001b[0m \u001b[0;34m\u001b[0m\u001b[0m\n\u001b[1;32m    460\u001b[0m \u001b[0;34m\u001b[0m\u001b[0m\n",
      "\u001b[0;32m/Users/vikram/anaconda/envs/tensor/lib/python3.6/site-packages/scipy/sparse/construct.py\u001b[0m in \u001b[0;36mbmat\u001b[0;34m(blocks, format, dtype)\u001b[0m\n\u001b[1;32m    577\u001b[0m                                                     \u001b[0mexp\u001b[0m\u001b[0;34m=\u001b[0m\u001b[0mbrow_lengths\u001b[0m\u001b[0;34m[\u001b[0m\u001b[0mi\u001b[0m\u001b[0;34m]\u001b[0m\u001b[0;34m,\u001b[0m\u001b[0;34m\u001b[0m\u001b[0m\n\u001b[1;32m    578\u001b[0m                                                     got=A.shape[0]))\n\u001b[0;32m--> 579\u001b[0;31m                     \u001b[0;32mraise\u001b[0m \u001b[0mValueError\u001b[0m\u001b[0;34m(\u001b[0m\u001b[0mmsg\u001b[0m\u001b[0;34m)\u001b[0m\u001b[0;34m\u001b[0m\u001b[0m\n\u001b[0m\u001b[1;32m    580\u001b[0m \u001b[0;34m\u001b[0m\u001b[0m\n\u001b[1;32m    581\u001b[0m                 \u001b[0;32mif\u001b[0m \u001b[0mbcol_lengths\u001b[0m\u001b[0;34m[\u001b[0m\u001b[0mj\u001b[0m\u001b[0;34m]\u001b[0m \u001b[0;34m==\u001b[0m \u001b[0;36m0\u001b[0m\u001b[0;34m:\u001b[0m\u001b[0;34m\u001b[0m\u001b[0m\n",
      "\u001b[0;31mValueError\u001b[0m: blocks[0,:] has incompatible row dimensions. Got blocks[0,1].shape[0] == 0, expected 3."
     ]
    }
   ],
   "source": [
    "training = get_input_vec_grouped('line_0.jpg', 3)"
   ]
  },
  {
   "cell_type": "code",
   "execution_count": 31,
   "metadata": {
    "collapsed": true
   },
   "outputs": [],
   "source": [
    "def get_df(line, window_size):\n",
    "    ''' \n",
    "    Returns a training vector for the input hindi line that consists\n",
    "    of a time series of data. At each time step, there is a window-size length of\n",
    "    vectors\n",
    "    '''\n",
    "    im = np.array(Image.open('hindi_data/hindi_lines/line_0.jpg').convert('L')\n",
    "                  , dtype=np.uint32)\n",
    "    df = pd.DataFrame(im)\n",
    "    \n",
    "    return df"
   ]
  },
  {
   "cell_type": "code",
   "execution_count": 32,
   "metadata": {
    "collapsed": true
   },
   "outputs": [],
   "source": [
    "df = get_df('lfds',3)"
   ]
  },
  {
   "cell_type": "code",
   "execution_count": 45,
   "metadata": {
    "collapsed": false
   },
   "outputs": [
    {
     "data": {
      "text/plain": [
       "(89, 2)"
      ]
     },
     "execution_count": 45,
     "metadata": {},
     "output_type": "execute_result"
    }
   ],
   "source": [
    "np.array(df.iloc[:,3:5]).shape"
   ]
  },
  {
   "cell_type": "code",
   "execution_count": 22,
   "metadata": {
    "collapsed": false
   },
   "outputs": [],
   "source": [
    "num_rows, num_columns = df.shape\n",
    "time_step = num_columns"
   ]
  },
  {
   "cell_type": "code",
   "execution_count": 23,
   "metadata": {
    "collapsed": false
   },
   "outputs": [],
   "source": [
    "train_inputs = np.zeros((time_step, num_rows + 2 * num_rows * 3))"
   ]
  },
  {
   "cell_type": "code",
   "execution_count": 24,
   "metadata": {
    "collapsed": false
   },
   "outputs": [
    {
     "data": {
      "text/plain": [
       "array([[ 0.,  0.,  0., ...,  0.,  0.,  0.],\n",
       "       [ 0.,  0.,  0., ...,  0.,  0.,  0.],\n",
       "       [ 0.,  0.,  0., ...,  0.,  0.,  0.],\n",
       "       ..., \n",
       "       [ 0.,  0.,  0., ...,  0.,  0.,  0.],\n",
       "       [ 0.,  0.,  0., ...,  0.,  0.,  0.],\n",
       "       [ 0.,  0.,  0., ...,  0.,  0.,  0.]])"
      ]
     },
     "execution_count": 24,
     "metadata": {},
     "output_type": "execute_result"
    }
   ],
   "source": [
    "train_inputs"
   ]
  },
  {
   "cell_type": "code",
   "execution_count": null,
   "metadata": {
    "collapsed": true
   },
   "outputs": [],
   "source": []
  }
 ],
 "metadata": {
  "kernelspec": {
   "display_name": "Python 3",
   "language": "python",
   "name": "python3"
  },
  "language_info": {
   "codemirror_mode": {
    "name": "ipython",
    "version": 3
   },
   "file_extension": ".py",
   "mimetype": "text/x-python",
   "name": "python",
   "nbconvert_exporter": "python",
   "pygments_lexer": "ipython3",
   "version": "3.6.0"
  }
 },
 "nbformat": 4,
 "nbformat_minor": 2
}
