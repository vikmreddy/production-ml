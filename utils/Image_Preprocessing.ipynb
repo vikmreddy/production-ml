{
 "cells": [
  {
   "cell_type": "markdown",
   "metadata": {},
   "source": [
    "### Image preprocessing for Deep Learning\n",
    "By Vik Reddy"
   ]
  },
  {
   "cell_type": "code",
   "execution_count": 1,
   "metadata": {},
   "outputs": [],
   "source": [
    "# Imports\n",
    "\n",
    "# Array Work\n",
    "import numpy as np\n",
    "import pandas as pd\n",
    "\n",
    "# Image\n",
    "from PIL import Image\n",
    "\n",
    "# Plotting\n",
    "import matplotlib\n",
    "import matplotlib.pyplot as plt\n",
    "%matplotlib inline"
   ]
  },
  {
   "cell_type": "code",
   "execution_count": 2,
   "metadata": {
    "collapsed": true
   },
   "outputs": [],
   "source": [
    "def binarize(im, threshold):\n",
    "    im = np.array(Image.open(im).convert('L'), dtype=np.uint32)\n",
    "    \n",
    "    # convert to pandas DataFrame to apply filter\n",
    "    df = pd.DataFrame(im)\n",
    "    df = df.applymap(lambda x: 255 if x > threshold else 0)\n",
    "    df = df.astype(np.uint32)\n",
    "    \n",
    "    # convert pandas DataFrame to np array\n",
    "    #im = df.as_matrix()\n",
    "    im = np.asarray(df)\n",
    "    \n",
    "    return im\n",
    "\n",
    "def show_image_from_array(im):\n",
    "    ''' Note that PIL only supports 32 bit ints, not 8 bit\n",
    "    '''\n",
    "    im = Image.fromarray(im)\n",
    "    im.show()\n",
    "    # inline:\n",
    "    #plt.figure(figsize=(10,14))\n",
    "    #plt.imshow(im)"
   ]
  },
  {
   "cell_type": "markdown",
   "metadata": {},
   "source": [
    "### Binarize on the whole image\n",
    "### and on an isolated character"
   ]
  },
  {
   "cell_type": "code",
   "execution_count": 5,
   "metadata": {},
   "outputs": [],
   "source": [
    "# whole image\n",
    "im = '100.jpg'\n",
    "im = binarize(im, 170)\n",
    "show_image_from_array(im)\n",
    "\n",
    "# M character\n",
    "char = 'Char_train/m.jpg'\n",
    "char = binarize(char, 170)\n",
    "show_image_from_array(char)"
   ]
  },
  {
   "cell_type": "code",
   "execution_count": 4,
   "metadata": {},
   "outputs": [],
   "source": [
    "def open_images(lst):\n",
    "    ''' Shows a list of image thumbnails '''\n",
    "    for filename in lst:\n",
    "        im = Image.open(filename)\n",
    "        #im.thumbnail((128,128))\n",
    "        im.show()\n",
    "\n",
    "#open_images(['100.jpg', '101.jpg'])\n",
    "\n",
    "def plot_images(lst):\n",
    "    for filename in lst:\n",
    "        plt.figure(figsize=(8,11))\n",
    "        im = np.array(Image.open(filename)\n",
    "                      .convert('1'), dtype=np.uint32)#.convert('L')\n",
    "        plt.imshow(im)\n",
    "        \n",
    "\n",
    "#plot_images(['100.jpg','101.jpg'])"
   ]
  },
  {
   "cell_type": "code",
   "execution_count": null,
   "metadata": {
    "collapsed": true
   },
   "outputs": [],
   "source": []
  },
  {
   "cell_type": "code",
   "execution_count": null,
   "metadata": {
    "collapsed": true
   },
   "outputs": [],
   "source": []
  }
 ],
 "metadata": {
  "anaconda-cloud": {},
  "kernelspec": {
   "display_name": "Python 3",
   "language": "python",
   "name": "python3"
  },
  "language_info": {
   "codemirror_mode": {
    "name": "ipython",
    "version": 3
   },
   "file_extension": ".py",
   "mimetype": "text/x-python",
   "name": "python",
   "nbconvert_exporter": "python",
   "pygments_lexer": "ipython3",
   "version": "3.6.1"
  }
 },
 "nbformat": 4,
 "nbformat_minor": 1
}
